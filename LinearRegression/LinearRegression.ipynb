{
 "cells": [
  {
   "cell_type": "code",
   "execution_count": 18,
   "metadata": {},
   "outputs": [],
   "source": [
    "import tensorflow as tf\n",
    "import pandas as pd\n",
    "import matplotlib.pyplot as plt\n",
    "import numpy as np"
   ]
  },
  {
   "cell_type": "code",
   "execution_count": 19,
   "metadata": {},
   "outputs": [],
   "source": [
    "#read dataset\n",
    "data=pd.read_csv('Salary_Data.csv')"
   ]
  },
  {
   "cell_type": "code",
   "execution_count": 20,
   "metadata": {},
   "outputs": [],
   "source": [
    "#Parameters\n",
    "learning_rate=0.01\n",
    "training_epochs=100\n",
    "display_step=50"
   ]
  },
  {
   "cell_type": "code",
   "execution_count": 21,
   "metadata": {},
   "outputs": [],
   "source": [
    "#Training data\n",
    "X_train=data.iloc[:,0]\n",
    "Y_train=data.iloc[:,1]\n",
    "n_samples=len(X_train)"
   ]
  },
  {
   "cell_type": "code",
   "execution_count": 22,
   "metadata": {},
   "outputs": [],
   "source": [
    "#tf Graph Input\n",
    "X=tf.placeholder(\"float\")\n",
    "Y=tf.placeholder(\"float\")"
   ]
  },
  {
   "cell_type": "code",
   "execution_count": 23,
   "metadata": {},
   "outputs": [],
   "source": [
    "#Set model weights\n",
    "W=tf.Variable(np.random.randn(),name=\"weight\")\n",
    "b=tf.Variable(np.random.randn(),name=\"bias\")"
   ]
  },
  {
   "cell_type": "code",
   "execution_count": 24,
   "metadata": {},
   "outputs": [],
   "source": [
    "#Construct a linear model\n",
    "pred=tf.add(tf.multiply(X,W),b)"
   ]
  },
  {
   "cell_type": "code",
   "execution_count": 25,
   "metadata": {},
   "outputs": [],
   "source": [
    "#Mean Square error\n",
    "cost=tf.reduce_sum(tf.pow(pred-Y,2))/(2*n_samples)"
   ]
  },
  {
   "cell_type": "code",
   "execution_count": 26,
   "metadata": {},
   "outputs": [],
   "source": [
    "#Gradient descent\n",
    "optimizer=tf.train.GradientDescentOptimizer(learning_rate).minimize(cost)"
   ]
  },
  {
   "cell_type": "code",
   "execution_count": 27,
   "metadata": {},
   "outputs": [],
   "source": [
    "#initializing the variables\n",
    "from tensorflow.python.framework import ops\n",
    "init=tf.global_variables_initializer()"
   ]
  },
  {
   "cell_type": "code",
   "execution_count": 33,
   "metadata": {},
   "outputs": [
    {
     "name": "stdout",
     "output_type": "stream",
     "text": [
      "Epoch: 0050 cost= 65569184.000000000 W= 12495.644 b= 4351.062\n",
      "Epoch: 0050 cost= 65480132.000000000 W= 12506.741 b= 4359.5986\n",
      "Epoch: 0050 cost= 65428372.000000000 W= 12514.047 b= 4364.469\n",
      "Epoch: 0050 cost= 65373052.000000000 W= 12523.469 b= 4369.18\n",
      "Epoch: 0050 cost= 65341920.000000000 W= 12529.313 b= 4371.837\n",
      "Epoch: 0050 cost= 65275020.000000000 W= 12544.718 b= 4377.1484\n",
      "Epoch: 0050 cost= 65209348.000000000 W= 12562.856 b= 4383.195\n",
      "Epoch: 0050 cost= 65178312.000000000 W= 12573.374 b= 4386.482\n",
      "Epoch: 0050 cost= 65129104.000000000 W= 12594.52 b= 4393.09\n",
      "Epoch: 0050 cost= 65117152.000000000 W= 12602.161 b= 4395.1553\n",
      "Epoch: 0050 cost= 65103244.000000000 W= 12614.738 b= 4398.38\n",
      "Epoch: 0050 cost= 65102236.000000000 W= 12615.987 b= 4398.692\n",
      "Epoch: 0050 cost= 65100212.000000000 W= 12618.779 b= 4399.39\n",
      "Epoch: 0050 cost= 65099400.000000000 W= 12620.07 b= 4399.705\n",
      "Epoch: 0050 cost= 65099460.000000000 W= 12619.952 b= 4399.6787\n",
      "Epoch: 0050 cost= 65098440.000000000 W= 12622.7295 b= 4400.2456\n",
      "Epoch: 0050 cost= 65100148.000000000 W= 12618.06 b= 4399.33\n",
      "Epoch: 0050 cost= 65099592.000000000 W= 12638.929 b= 4403.2676\n",
      "Epoch: 0050 cost= 65102164.000000000 W= 12643.629 b= 4404.0645\n",
      "Epoch: 0050 cost= 65133988.000000000 W= 12670.978 b= 4408.6226\n",
      "Epoch: 0050 cost= 65138784.000000000 W= 12673.622 b= 4409.011\n",
      "Epoch: 0050 cost= 65157736.000000000 W= 12682.808 b= 4410.305\n",
      "Epoch: 0050 cost= 65139188.000000000 W= 12674.111 b= 4409.2046\n",
      "Epoch: 0050 cost= 65173140.000000000 W= 12689.076 b= 4411.03\n",
      "Epoch: 0050 cost= 65137476.000000000 W= 12673.488 b= 4409.2383\n",
      "Epoch: 0050 cost= 65087460.000000000 W= 12634.822 b= 4404.942\n",
      "Epoch: 0050 cost= 65083656.000000000 W= 12611.178 b= 4402.453\n",
      "Epoch: 0050 cost= 65126180.000000000 W= 12570.106 b= 4398.175\n",
      "Epoch: 0050 cost= 65224484.000000000 W= 12530.694 b= 4394.348\n",
      "Epoch: 0050 cost= 65428164.000000000 W= 12481.363 b= 4389.65\n",
      "Epoch: 0100 cost= 55982024.000000000 W= 12187.026 b= 6519.526\n",
      "Epoch: 0100 cost= 55907336.000000000 W= 12197.358 b= 6527.473\n",
      "Epoch: 0100 cost= 55866168.000000000 W= 12203.8125 b= 6531.776\n",
      "Epoch: 0100 cost= 55821768.000000000 W= 12212.203 b= 6535.971\n",
      "Epoch: 0100 cost= 55798872.000000000 W= 12216.961 b= 6538.134\n",
      "Epoch: 0100 cost= 55743084.000000000 W= 12231.146 b= 6543.0254\n",
      "Epoch: 0100 cost= 55687876.000000000 W= 12248.06 b= 6548.663\n",
      "Epoch: 0100 cost= 55663260.000000000 W= 12257.342 b= 6551.564\n",
      "Epoch: 0100 cost= 55621872.000000000 W= 12277.257 b= 6557.787\n",
      "Epoch: 0100 cost= 55612996.000000000 W= 12283.677 b= 6559.5225\n",
      "Epoch: 0100 cost= 55601852.000000000 W= 12295.055 b= 6562.44\n",
      "Epoch: 0100 cost= 55601812.000000000 W= 12295.123 b= 6562.457\n",
      "Epoch: 0100 cost= 55600672.000000000 W= 12296.742 b= 6562.862\n",
      "Epoch: 0100 cost= 55600592.000000000 W= 12296.881 b= 6562.8955\n",
      "Epoch: 0100 cost= 55601260.000000000 W= 12295.699 b= 6562.633\n",
      "Epoch: 0100 cost= 55600388.000000000 W= 12297.539 b= 6563.0083\n",
      "Epoch: 0100 cost= 55603256.000000000 W= 12292.012 b= 6561.9243\n",
      "Epoch: 0100 cost= 55598972.000000000 W= 12312.113 b= 6565.7173\n",
      "Epoch: 0100 cost= 55600360.000000000 W= 12316.354 b= 6566.436\n",
      "Epoch: 0100 cost= 55625400.000000000 W= 12343.305 b= 6570.9277\n",
      "Epoch: 0100 cost= 55629772.000000000 W= 12346.099 b= 6571.3384\n",
      "Epoch: 0100 cost= 55647216.000000000 W= 12355.67 b= 6572.6865\n",
      "Epoch: 0100 cost= 55632700.000000000 W= 12348.085 b= 6571.7266\n",
      "Epoch: 0100 cost= 55666968.000000000 W= 12364.446 b= 6573.7217\n",
      "Epoch: 0100 cost= 55637284.000000000 W= 12350.777 b= 6572.1504\n",
      "Epoch: 0100 cost= 55591580.000000000 W= 12314.336 b= 6568.1016\n",
      "Epoch: 0100 cost= 55587160.000000000 W= 12293.482 b= 6565.9062\n",
      "Epoch: 0100 cost= 55620832.000000000 W= 12255.248 b= 6561.9233\n",
      "Epoch: 0100 cost= 55700132.000000000 W= 12219.541 b= 6558.4565\n",
      "Epoch: 0100 cost= 55869136.000000000 W= 12174.07 b= 6554.126\n",
      "optimization finished\n",
      "Training cost= 55869136.0 W= 12174.07 b= 6554.126\n"
     ]
    },
    {
     "data": {
      "image/png": "[encoded data removed]",
      "text/plain": [
       "<Figure size 432x288 with 1 Axes>"
      ]
     },
     "metadata": {
      "needs_background": "light"
     },
     "output_type": "display_data"
    }
   ],
   "source": [
    "#Launch Graph\n",
    "with tf.Session() as sess:\n",
    "    sess.run(init)\n",
    "    \n",
    "    #fitting all training data\n",
    "    for epoch in range(training_epochs):\n",
    "        for (x,y) in zip(X_train,Y_train):\n",
    "            sess.run(optimizer,feed_dict={X:x,Y:y})\n",
    "            \n",
    "            if (epoch+1)%display_step==0:\n",
    "                c=sess.run(cost,feed_dict={X:X_train,Y:Y_train})\n",
    "                print(\"Epoch:\",'%04d' % (epoch+1), \"cost=\",\"{:.9f}\".format(c),\"W=\", sess.run(W),\"b=\",sess.run(b))\n",
    "                \n",
    "    print(\"optimization finished\")\n",
    "    training_cost=sess.run(cost,feed_dict={X:X_train,Y:Y_train})\n",
    "    print(\"Training cost=\",training_cost,\"W=\", sess.run(W),\"b=\",sess.run(b))\n",
    "    \n",
    "    #Graphic dispaly\n",
    "    plt.plot(X_train,Y_train,'ro',label='Original Data')\n",
    "    plt.plot(X_train,sess.run(W)*X_train+sess.run(b),label='Fitted Line')\n",
    "    plt.legend()\n",
    "    plt.show()"
   ]
  },
  {
   "cell_type": "code",
   "execution_count": null,
   "metadata": {},
   "outputs": [],
   "source": []
  }
 ],
 "metadata": {
  "kernelspec": {
   "display_name": "Python 3",
   "language": "python",
   "name": "python3"
  },
  "language_info": {
   "codemirror_mode": {
    "name": "ipython",
    "version": 3
   },
   "file_extension": ".py",
   "mimetype": "text/x-python",
   "name": "python",
   "nbconvert_exporter": "python",
   "pygments_lexer": "ipython3",
   "version": "3.6.7"
  }
 },
 "nbformat": 4,
 "nbformat_minor": 2
}
