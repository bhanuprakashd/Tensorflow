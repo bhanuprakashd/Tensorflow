{
 "cells": [
  {
   "cell_type": "code",
   "execution_count": 30,
   "metadata": {},
   "outputs": [],
   "source": [
    "import tensorflow as tf\n"
   ]
  },
  {
   "cell_type": "code",
   "execution_count": 3,
   "metadata": {},
   "outputs": [
    {
     "name": "stdout",
     "output_type": "stream",
     "text": [
      "b'Hii Bhanu'\n"
     ]
    }
   ],
   "source": [
    "#Intro to tensorflow\n",
    "a=tf.constant(\"Hii Bhanu\")\n",
    "sess=tf.Session()\n",
    "print(sess.run(a))"
   ]
  },
  {
   "cell_type": "code",
   "execution_count": 4,
   "metadata": {},
   "outputs": [],
   "source": [
    "sess.close()"
   ]
  },
  {
   "cell_type": "code",
   "execution_count": 11,
   "metadata": {},
   "outputs": [
    {
     "name": "stdout",
     "output_type": "stream",
     "text": [
      "[[23]]\n"
     ]
    }
   ],
   "source": [
    "#Session formats\n",
    "a1=tf.constant([[2,3]])\n",
    "a2=tf.constant([[4],[5]])\n",
    "dot=tf.matmul(a1,a2)\n",
    "#method 1\n",
    "sess=tf.Session()\n",
    "res=sess.run(dot)\n",
    "print(res)\n",
    "sess.close()"
   ]
  },
  {
   "cell_type": "code",
   "execution_count": 13,
   "metadata": {},
   "outputs": [
    {
     "name": "stdout",
     "output_type": "stream",
     "text": [
      "[[23]]\n"
     ]
    }
   ],
   "source": [
    "#method 2\n",
    "with tf.Session() as sess:\n",
    "    res=sess.run(dot)\n",
    "    print(res)"
   ]
  },
  {
   "cell_type": "code",
   "execution_count": 16,
   "metadata": {},
   "outputs": [
    {
     "name": "stdout",
     "output_type": "stream",
     "text": [
      "<tf.Variable 'Variable_2:0' shape=() dtype=string_ref>\n"
     ]
    }
   ],
   "source": [
    "#Tensors\n",
    "#Variable\n",
    "t1=tf.Variable('Bhanu',tf.string)\n",
    "print(t1)"
   ]
  },
  {
   "cell_type": "code",
   "execution_count": 20,
   "metadata": {},
   "outputs": [
    {
     "name": "stdout",
     "output_type": "stream",
     "text": [
      "Tensor(\"Const_21:0\", shape=(), dtype=int16) Tensor(\"Const_22:0\", shape=(), dtype=float32)\n"
     ]
    }
   ],
   "source": [
    "#Constant\n",
    "t2=tf.constant(1,tf.int16)\n",
    "t3=tf.constant(1.14141,tf.float32)\n",
    "print(t2,t3)"
   ]
  },
  {
   "cell_type": "code",
   "execution_count": 22,
   "metadata": {},
   "outputs": [
    {
     "name": "stdout",
     "output_type": "stream",
     "text": [
      "Tensor(\"Const_24:0\", shape=(3,), dtype=int16) Tensor(\"Const_25:0\", shape=(3,), dtype=bool)\n"
     ]
    }
   ],
   "source": [
    "#1 dimensional tensor\n",
    "t1=tf.constant([1,3,5],tf.int16)\n",
    "t2=tf.constant([True,False,True],tf.bool)\n",
    "print(t1,t2)"
   ]
  },
  {
   "cell_type": "code",
   "execution_count": 23,
   "metadata": {},
   "outputs": [
    {
     "name": "stdout",
     "output_type": "stream",
     "text": [
      "Tensor(\"Const_26:0\", shape=(2, 2), dtype=int16)\n"
     ]
    }
   ],
   "source": [
    "#2 dimensions\n",
    "t1=tf.constant([[1,2],[4,5]],tf.int16)\n",
    "print(t1)"
   ]
  },
  {
   "cell_type": "code",
   "execution_count": 25,
   "metadata": {},
   "outputs": [
    {
     "name": "stdout",
     "output_type": "stream",
     "text": [
      "Tensor(\"Const_28:0\", shape=(1, 3, 2), dtype=int16)\n"
     ]
    }
   ],
   "source": [
    "#3 dimensions\n",
    "t1=tf.constant([[[1,2],[4,5],[7,8]]],tf.int16)\n",
    "print(t1)"
   ]
  },
  {
   "cell_type": "code",
   "execution_count": 26,
   "metadata": {},
   "outputs": [
    {
     "data": {
      "text/plain": [
       "TensorShape([Dimension(1), Dimension(3), Dimension(2)])"
      ]
     },
     "execution_count": 26,
     "metadata": {},
     "output_type": "execute_result"
    }
   ],
   "source": [
    "t1.shape"
   ]
  },
  {
   "cell_type": "code",
   "execution_count": 35,
   "metadata": {},
   "outputs": [
    {
     "name": "stdout",
     "output_type": "stream",
     "text": [
      "[[1 2 3]\n",
      " [4 5 6]\n",
      " [7 8 9]]\n"
     ]
    }
   ],
   "source": [
    "#Reshape\n",
    "sess=tf.Session()\n",
    "t1=tf.constant([1,2,3,4,5,6,7,8,9],tf.int32)\n",
    "t1=tf.reshape(t1,[3,3])\n",
    "print(sess.run(t1))"
   ]
  },
  {
   "cell_type": "code",
   "execution_count": 74,
   "metadata": {},
   "outputs": [
    {
     "name": "stdout",
     "output_type": "stream",
     "text": [
      "<tf.Variable 'cust_14:0' shape=(3,) dtype=float32_ref>\n"
     ]
    }
   ],
   "source": [
    "from tensorflow.python.framework import ops\n",
    "\n",
    "#Defining variables\n",
    "weights=tf.Variable(tf.random_normal([2,3],stddev=0.1),name='weights')\n",
    "biases_K=tf.Variable(tf.zeros([3]),name=\"biases\")\n",
    "cust_var=tf.Variable(tf.ones([3]),name=\"cust\")\n",
    "\n",
    "#------------------------------------------------------------------\n",
    "#Storing the variables in a list\n",
    "all_list=ops.get_collection(ops.GraphKeys.GLOBAL_VARIABLES)\n",
    "\n",
    "#Customized Initialization\n",
    "cust_list=[weights,biases]\n",
    "init_cust=tf.variables_initializer(var_list=cust_list)\n",
    "#---------------------------------------------------------------------\n",
    "#All Variable initialization\n",
    "all_init=tf.initialize_all_variables()\n",
    "#Running Session\n",
    "with tf.Session() as sess:\n",
    "    sess.run(init_cust)\n",
    "    sess.run(all_init)\n",
    "    print(cust_var)\n",
    "\n",
    "\n"
   ]
  },
  {
   "cell_type": "code",
   "execution_count": 67,
   "metadata": {},
   "outputs": [
    {
     "name": "stdout",
     "output_type": "stream",
     "text": [
      "Weights are [[ 0.17729948  0.150569   -0.09898481]\n",
      " [ 0.00245347  0.14578752 -0.05407009]] and biases are [0. 0. 0.]\n"
     ]
    }
   ],
   "source": [
    "#Defining variable \n",
    "weights=tf.Variable(tf.random_normal([2,3],stddev=0.1),name='weights')\n",
    "biases_K=tf.Variable(tf.zeros([3]),name=\"biases\")\n",
    "#Variables Initialization\n",
    "init_wt=tf.initialize_all_variables()\n",
    "#Running session \n",
    "sess=tf.Session()\n",
    "sess.run(init_wt)\n",
    "print(\"Weights are\",sess.run(weights),\"and biases are\",sess.run(biases))\n",
    "sess.close()"
   ]
  },
  {
   "cell_type": "code",
   "execution_count": 87,
   "metadata": {},
   "outputs": [
    {
     "name": "stdout",
     "output_type": "stream",
     "text": [
      "[6. 8.]\n",
      "[0.5 0.6]\n",
      "[ 8. 15.]\n",
      "[ 16. 243.]\n",
      "[-2. -2.]\n",
      "[1.4142135 1.7320508]\n",
      "[ 54.59815 148.41316]\n"
     ]
    }
   ],
   "source": [
    "#Operations\n",
    "a=tf.constant([2,3],tf.float32)\n",
    "b=tf.constant([4,5],tf.float32)\n",
    "with tf.Session() as sess:\n",
    "    print(sess.run(tf.add(a,b)))\n",
    "    print(sess.run(tf.subtract(a,b)))\n",
    "    print(sess.run(tf.div(a,b)))\n",
    "    print(sess.run(tf.multiply(a,b)))\n",
    "    print(sess.run(tf.pow(a,b)))\n",
    "    print(sess.run(tf.sqrt(a)))\n",
    "    print(sess.run(tf.exp(b)))\n"
   ]
  },
  {
   "cell_type": "code",
   "execution_count": null,
   "metadata": {},
   "outputs": [],
   "source": []
  }
 ],
 "metadata": {
  "kernelspec": {
   "display_name": "Python 3",
   "language": "python",
   "name": "python3"
  },
  "language_info": {
   "codemirror_mode": {
    "name": "ipython",
    "version": 3
   },
   "file_extension": ".py",
   "mimetype": "text/x-python",
   "name": "python",
   "nbconvert_exporter": "python",
   "pygments_lexer": "ipython3",
   "version": "3.6.7"
  }
 },
 "nbformat": 4,
 "nbformat_minor": 2
}
