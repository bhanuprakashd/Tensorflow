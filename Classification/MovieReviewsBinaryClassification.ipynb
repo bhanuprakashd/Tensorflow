{
 "cells": [
  {
   "cell_type": "code",
   "execution_count": 2,
   "metadata": {},
   "outputs": [],
   "source": [
    "#import libraries\n",
    "from __future__ import absolute_import, division, print_function\n",
    "\n",
    "import tensorflow as tf\n",
    "import numpy as np\n",
    "import matplotlib.pyplot as plt\n",
    "%matplotlib inline"
   ]
  },
  {
   "cell_type": "code",
   "execution_count": 3,
   "metadata": {},
   "outputs": [],
   "source": [
    "#Download IMDB reviews database\n",
    "imdb = tf.keras.datasets.imdb\n",
    "(train_data, train_labels), (test_data, test_labels) = imdb.load_data(num_words=10000)#fetching 10000 frequently occuring words"
   ]
  },
  {
   "cell_type": "code",
   "execution_count": 4,
   "metadata": {},
   "outputs": [
    {
     "name": "stdout",
     "output_type": "stream",
     "text": [
      "(25000,)\n"
     ]
    }
   ],
   "source": [
    "print(train_data.shape)"
   ]
  },
  {
   "cell_type": "code",
   "execution_count": 5,
   "metadata": {},
   "outputs": [
    {
     "name": "stdout",
     "output_type": "stream",
     "text": [
      "(25000,)\n"
     ]
    }
   ],
   "source": [
    "print(train_labels.shape)"
   ]
  },
  {
   "cell_type": "code",
   "execution_count": 5,
   "metadata": {},
   "outputs": [
    {
     "name": "stdout",
     "output_type": "stream",
     "text": [
      "(25000,)\n"
     ]
    }
   ],
   "source": [
    "print(test_data.shape)"
   ]
  },
  {
   "cell_type": "code",
   "execution_count": 7,
   "metadata": {},
   "outputs": [
    {
     "name": "stdout",
     "output_type": "stream",
     "text": [
      "(25000,)\n"
     ]
    }
   ],
   "source": [
    "print(test_labels.shape)"
   ]
  },
  {
   "cell_type": "code",
   "execution_count": 9,
   "metadata": {},
   "outputs": [
    {
     "name": "stdout",
     "output_type": "stream",
     "text": [
      "[1, 14, 22, 16, 43, 530, 973, 1622, 1385, 65, 458, 4468, 66, 3941, 4, 173, 36, 256, 5, 25, 100, 43, 838, 112, 50, 670, 2, 9, 35, 480, 284, 5, 150, 4, 172, 112, 167, 2, 336, 385, 39, 4, 172, 4536, 1111, 17, 546, 38, 13, 447, 4, 192, 50, 16, 6, 147, 2025, 19, 14, 22, 4, 1920, 4613, 469, 4, 22, 71, 87, 12, 16, 43, 530, 38, 76, 15, 13, 1247, 4, 22, 17, 515, 17, 12, 16, 626, 18, 2, 5, 62, 386, 12, 8, 316, 8, 106, 5, 4, 2223, 5244, 16, 480, 66, 3785, 33, 4, 130, 12, 16, 38, 619, 5, 25, 124, 51, 36, 135, 48, 25, 1415, 33, 6, 22, 12, 215, 28, 77, 52, 5, 14, 407, 16, 82, 2, 8, 4, 107, 117, 5952, 15, 256, 4, 2, 7, 3766, 5, 723, 36, 71, 43, 530, 476, 26, 400, 317, 46, 7, 4, 2, 1029, 13, 104, 88, 4, 381, 15, 297, 98, 32, 2071, 56, 26, 141, 6, 194, 7486, 18, 4, 226, 22, 21, 134, 476, 26, 480, 5, 144, 30, 5535, 18, 51, 36, 28, 224, 92, 25, 104, 4, 226, 65, 16, 38, 1334, 88, 12, 16, 283, 5, 16, 4472, 113, 103, 32, 15, 16, 5345, 19, 178, 32]\n",
      "[1, 194, 1153, 194, 8255, 78, 228, 5, 6, 1463, 4369, 5012, 134, 26, 4, 715, 8, 118, 1634, 14, 394, 20, 13, 119, 954, 189, 102, 5, 207, 110, 3103, 21, 14, 69, 188, 8, 30, 23, 7, 4, 249, 126, 93, 4, 114, 9, 2300, 1523, 5, 647, 4, 116, 9, 35, 8163, 4, 229, 9, 340, 1322, 4, 118, 9, 4, 130, 4901, 19, 4, 1002, 5, 89, 29, 952, 46, 37, 4, 455, 9, 45, 43, 38, 1543, 1905, 398, 4, 1649, 26, 6853, 5, 163, 11, 3215, 2, 4, 1153, 9, 194, 775, 7, 8255, 2, 349, 2637, 148, 605, 2, 8003, 15, 123, 125, 68, 2, 6853, 15, 349, 165, 4362, 98, 5, 4, 228, 9, 43, 2, 1157, 15, 299, 120, 5, 120, 174, 11, 220, 175, 136, 50, 9, 4373, 228, 8255, 5, 2, 656, 245, 2350, 5, 4, 9837, 131, 152, 491, 18, 2, 32, 7464, 1212, 14, 9, 6, 371, 78, 22, 625, 64, 1382, 9, 8, 168, 145, 23, 4, 1690, 15, 16, 4, 1355, 5, 28, 6, 52, 154, 462, 33, 89, 78, 285, 16, 145, 95]\n"
     ]
    }
   ],
   "source": [
    "#Words are array of numbers of different lenghts\n",
    "for i in range(2):\n",
    "    print(train_data[i])"
   ]
  },
  {
   "cell_type": "code",
   "execution_count": 10,
   "metadata": {},
   "outputs": [
    {
     "name": "stdout",
     "output_type": "stream",
     "text": [
      "1\n",
      "0\n"
     ]
    }
   ],
   "source": [
    "#Explore train labels positive(1) & Negative (0)\n",
    "for i in range(2):\n",
    "    print(train_labels[i])"
   ]
  },
  {
   "cell_type": "code",
   "execution_count": 7,
   "metadata": {},
   "outputs": [],
   "source": [
    "#Converting integers back to words\n",
    "# A dictionary mapping words to an integer index\n",
    "word_index = imdb.get_word_index()\n",
    "\n",
    "# The first indices are reserved\n",
    "word_index = {k:(v+3) for k,v in word_index.items()} \n",
    "word_index[\"<PAD>\"] = 0\n",
    "word_index[\"<START>\"] = 1\n",
    "word_index[\"<UNK>\"] = 2  # unknown\n",
    "word_index[\"<UNUSED>\"] = 3\n",
    "\n",
    "reverse_word_index = dict([(value, key) for (key, value) in word_index.items()])\n",
    "\n",
    "def decode_review(text):\n",
    "    return ' '.join([reverse_word_index.get(i, '?') for i in text])"
   ]
  },
  {
   "cell_type": "code",
   "execution_count": 8,
   "metadata": {},
   "outputs": [
    {
     "name": "stdout",
     "output_type": "stream",
     "text": [
      "<START> this film was just brilliant casting location scenery story direction everyone's really suited the part they played and you could just imagine being there robert <UNK> is an amazing actor and now the same being director <UNK> father came from the same scottish island as myself so i loved the fact there was a real connection with this film the witty remarks throughout the film were great it was just brilliant so much that i bought the film as soon as it was released for <UNK> and would recommend it to everyone to watch and the fly fishing was amazing really cried at the end it was so sad and you know what they say if you cry at a film it must have been good and this definitely was also <UNK> to the two little boy's that played the <UNK> of norman and paul they were just brilliant children are often left out of the <UNK> list i think because the stars that play them all grown up are such a big profile for the whole film but these children are amazing and should be praised for what they have done don't you think the whole story was so lovely because it was true and was someone's life after all that was shared with us all\n"
     ]
    }
   ],
   "source": [
    "print(decode_review(train_data[0]))"
   ]
  },
  {
   "cell_type": "code",
   "execution_count": 9,
   "metadata": {},
   "outputs": [],
   "source": [
    "#Padding is done to make the reviews same length before fed into NN\n",
    "train_data = tf.keras.preprocessing.sequence.pad_sequences(train_data,\n",
    "                                                        value=word_index[\"<PAD>\"],\n",
    "                                                        padding='post',\n",
    "                                                        maxlen=256)\n",
    "\n",
    "test_data = tf.keras.preprocessing.sequence.pad_sequences(test_data,\n",
    "                                                       value=word_index[\"<PAD>\"],\n",
    "                                                       padding='post',\n",
    "                                                       maxlen=256)"
   ]
  },
  {
   "cell_type": "code",
   "execution_count": 14,
   "metadata": {},
   "outputs": [
    {
     "data": {
      "text/plain": [
       "(256, 256)"
      ]
     },
     "execution_count": 14,
     "metadata": {},
     "output_type": "execute_result"
    }
   ],
   "source": [
    "len(train_data[0]), len(train_data[1])"
   ]
  },
  {
   "cell_type": "code",
   "execution_count": 10,
   "metadata": {},
   "outputs": [],
   "source": [
    "#Building model\n",
    "# input shape is the vocabulary count used for the movie reviews (10,000 words)\n",
    "vocab_size = 10000\n",
    "\n",
    "model = tf.keras.Sequential([\n",
    "    tf.keras.layers.Embedding(vocab_size, 16),\n",
    "    tf.keras.layers.GlobalAveragePooling1D(),\n",
    "    tf.keras.layers.Dense(16, activation=tf.nn.relu),\n",
    "    tf.keras.layers.Dense(1, activation=tf.nn.sigmoid)])"
   ]
  },
  {
   "cell_type": "code",
   "execution_count": 16,
   "metadata": {},
   "outputs": [
    {
     "name": "stdout",
     "output_type": "stream",
     "text": [
      "Model: \"sequential\"\n",
      "_________________________________________________________________\n",
      "Layer (type)                 Output Shape              Param #   \n",
      "=================================================================\n",
      "embedding (Embedding)        (None, None, 16)          160000    \n",
      "_________________________________________________________________\n",
      "global_average_pooling1d (Gl (None, 16)                0         \n",
      "_________________________________________________________________\n",
      "dense (Dense)                (None, 16)                272       \n",
      "_________________________________________________________________\n",
      "dense_1 (Dense)              (None, 1)                 17        \n",
      "=================================================================\n",
      "Total params: 160,289\n",
      "Trainable params: 160,289\n",
      "Non-trainable params: 0\n",
      "_________________________________________________________________\n"
     ]
    }
   ],
   "source": [
    "model.summary()"
   ]
  },
  {
   "cell_type": "code",
   "execution_count": 12,
   "metadata": {},
   "outputs": [],
   "source": [
    "model.compile(optimizer='adam',\n",
    "              loss='binary_crossentropy',\n",
    "              metrics=['acc'])"
   ]
  },
  {
   "cell_type": "code",
   "execution_count": 11,
   "metadata": {},
   "outputs": [],
   "source": [
    "x_val = train_data[:10000]\n",
    "partial_x_train = train_data[10000:]\n",
    "\n",
    "y_val = train_labels[:10000]\n",
    "partial_y_train = train_labels[10000:]"
   ]
  },
  {
   "cell_type": "code",
   "execution_count": 13,
   "metadata": {},
   "outputs": [
    {
     "name": "stdout",
     "output_type": "stream",
     "text": [
      "Train on 15000 samples, validate on 10000 samples\n",
      "Epoch 1/40\n",
      "15000/15000 [==============================] - 1s 95us/sample - loss: 0.6921 - acc: 0.5865 - val_loss: 0.6903 - val_acc: 0.6516\n",
      "Epoch 2/40\n",
      "15000/15000 [==============================] - 1s 86us/sample - loss: 0.6863 - acc: 0.6984 - val_loss: 0.6817 - val_acc: 0.7286\n",
      "Epoch 3/40\n",
      "15000/15000 [==============================] - 1s 86us/sample - loss: 0.6721 - acc: 0.7460 - val_loss: 0.6630 - val_acc: 0.7517\n",
      "Epoch 4/40\n",
      "15000/15000 [==============================] - 1s 87us/sample - loss: 0.6457 - acc: 0.7618 - val_loss: 0.6325 - val_acc: 0.7568\n",
      "Epoch 5/40\n",
      "15000/15000 [==============================] - 1s 85us/sample - loss: 0.6068 - acc: 0.7901 - val_loss: 0.5923 - val_acc: 0.7875\n",
      "Epoch 6/40\n",
      "15000/15000 [==============================] - 1s 86us/sample - loss: 0.5588 - acc: 0.8133 - val_loss: 0.5472 - val_acc: 0.8062\n",
      "Epoch 7/40\n",
      "15000/15000 [==============================] - 1s 86us/sample - loss: 0.5071 - acc: 0.8313 - val_loss: 0.4998 - val_acc: 0.8234\n",
      "Epoch 8/40\n",
      "15000/15000 [==============================] - 1s 84us/sample - loss: 0.4575 - acc: 0.8502 - val_loss: 0.4580 - val_acc: 0.8367\n",
      "Epoch 9/40\n",
      "15000/15000 [==============================] - 1s 84us/sample - loss: 0.4133 - acc: 0.8655 - val_loss: 0.4222 - val_acc: 0.8483\n",
      "Epoch 10/40\n",
      "15000/15000 [==============================] - 1s 84us/sample - loss: 0.3756 - acc: 0.8771 - val_loss: 0.3937 - val_acc: 0.8540\n",
      "Epoch 11/40\n",
      "15000/15000 [==============================] - 1s 84us/sample - loss: 0.3446 - acc: 0.8854 - val_loss: 0.3709 - val_acc: 0.8618\n",
      "Epoch 12/40\n",
      "15000/15000 [==============================] - 1s 86us/sample - loss: 0.3188 - acc: 0.8928 - val_loss: 0.3536 - val_acc: 0.8642\n",
      "Epoch 13/40\n",
      "15000/15000 [==============================] - 1s 90us/sample - loss: 0.2978 - acc: 0.8990 - val_loss: 0.3386 - val_acc: 0.8709\n",
      "Epoch 14/40\n",
      "15000/15000 [==============================] - 1s 85us/sample - loss: 0.2788 - acc: 0.9037 - val_loss: 0.3276 - val_acc: 0.8737\n",
      "Epoch 15/40\n",
      "15000/15000 [==============================] - 1s 84us/sample - loss: 0.2628 - acc: 0.9092 - val_loss: 0.3187 - val_acc: 0.8753\n",
      "Epoch 16/40\n",
      "15000/15000 [==============================] - 1s 85us/sample - loss: 0.2485 - acc: 0.9141 - val_loss: 0.3113 - val_acc: 0.8758\n",
      "Epoch 17/40\n",
      "15000/15000 [==============================] - 1s 86us/sample - loss: 0.2351 - acc: 0.9186 - val_loss: 0.3051 - val_acc: 0.8792\n",
      "Epoch 18/40\n",
      "15000/15000 [==============================] - 1s 85us/sample - loss: 0.2233 - acc: 0.9229 - val_loss: 0.3003 - val_acc: 0.8815\n",
      "Epoch 19/40\n",
      "15000/15000 [==============================] - 1s 84us/sample - loss: 0.2125 - acc: 0.9251 - val_loss: 0.2958 - val_acc: 0.8820\n",
      "Epoch 20/40\n",
      "15000/15000 [==============================] - 1s 86us/sample - loss: 0.2029 - acc: 0.9298 - val_loss: 0.2929 - val_acc: 0.8834\n",
      "Epoch 21/40\n",
      "15000/15000 [==============================] - 1s 86us/sample - loss: 0.1928 - acc: 0.9357 - val_loss: 0.2904 - val_acc: 0.8835\n",
      "Epoch 22/40\n",
      "15000/15000 [==============================] - 1s 90us/sample - loss: 0.1844 - acc: 0.9386 - val_loss: 0.2886 - val_acc: 0.8838\n",
      "Epoch 23/40\n",
      "15000/15000 [==============================] - 1s 89us/sample - loss: 0.1760 - acc: 0.9429 - val_loss: 0.2883 - val_acc: 0.8836\n",
      "Epoch 24/40\n",
      "15000/15000 [==============================] - 1s 87us/sample - loss: 0.1688 - acc: 0.9460 - val_loss: 0.2869 - val_acc: 0.8846\n",
      "Epoch 25/40\n",
      "15000/15000 [==============================] - 1s 86us/sample - loss: 0.1612 - acc: 0.9492 - val_loss: 0.2862 - val_acc: 0.8855\n",
      "Epoch 26/40\n",
      "15000/15000 [==============================] - 1s 85us/sample - loss: 0.1546 - acc: 0.9518 - val_loss: 0.2873 - val_acc: 0.8834\n",
      "Epoch 27/40\n",
      "15000/15000 [==============================] - 1s 86us/sample - loss: 0.1482 - acc: 0.9542 - val_loss: 0.2872 - val_acc: 0.8841\n",
      "Epoch 28/40\n",
      "15000/15000 [==============================] - 1s 85us/sample - loss: 0.1422 - acc: 0.9567 - val_loss: 0.2882 - val_acc: 0.8849\n",
      "Epoch 29/40\n",
      "15000/15000 [==============================] - 1s 86us/sample - loss: 0.1367 - acc: 0.9594 - val_loss: 0.2902 - val_acc: 0.8848\n",
      "Epoch 30/40\n",
      "15000/15000 [==============================] - 1s 87us/sample - loss: 0.1311 - acc: 0.9606 - val_loss: 0.2901 - val_acc: 0.8862\n",
      "Epoch 31/40\n",
      "15000/15000 [==============================] - 1s 85us/sample - loss: 0.1254 - acc: 0.9635 - val_loss: 0.2916 - val_acc: 0.8865\n",
      "Epoch 32/40\n",
      "15000/15000 [==============================] - 1s 86us/sample - loss: 0.1204 - acc: 0.9665 - val_loss: 0.2935 - val_acc: 0.8858\n",
      "Epoch 33/40\n",
      "15000/15000 [==============================] - 1s 87us/sample - loss: 0.1155 - acc: 0.9677 - val_loss: 0.2962 - val_acc: 0.8837\n",
      "Epoch 34/40\n",
      "15000/15000 [==============================] - 1s 85us/sample - loss: 0.1111 - acc: 0.9686 - val_loss: 0.2988 - val_acc: 0.8839\n",
      "Epoch 35/40\n",
      "15000/15000 [==============================] - 1s 86us/sample - loss: 0.1069 - acc: 0.9698 - val_loss: 0.3022 - val_acc: 0.8829\n"
     ]
    }
   ],
   "source": [
    "early_stop = tf.keras.callbacks.EarlyStopping(monitor='val_loss', patience=10)\n",
    "history = model.fit(partial_x_train,\n",
    "                    partial_y_train,\n",
    "                    epochs=40,\n",
    "                    batch_size=512,\n",
    "                    verbose=1,\n",
    "                    validation_data=(x_val,y_val),\n",
    "                    callbacks=[early_stop])"
   ]
  },
  {
   "cell_type": "code",
   "execution_count": 14,
   "metadata": {},
   "outputs": [
    {
     "name": "stdout",
     "output_type": "stream",
     "text": [
      "25000/25000 [==============================] - 4s 149us/sample - loss: 0.3195 - acc: 0.8734\n",
      "[0.3195216446685791, 0.8734]\n"
     ]
    }
   ],
   "source": [
    "results = model.evaluate(test_data, test_labels)\n",
    "print(results)"
   ]
  },
  {
   "cell_type": "code",
   "execution_count": 15,
   "metadata": {},
   "outputs": [
    {
     "data": {
      "text/plain": [
       "dict_keys(['loss', 'acc', 'val_loss', 'val_acc'])"
      ]
     },
     "execution_count": 15,
     "metadata": {},
     "output_type": "execute_result"
    }
   ],
   "source": [
    "history_dict = history.history\n",
    "history_dict.keys()"
   ]
  },
  {
   "cell_type": "code",
   "execution_count": 16,
   "metadata": {},
   "outputs": [
    {
     "data": {
      "image/png": "[encoded data removed]",
      "text/plain": [
       "<Figure size 432x288 with 1 Axes>"
      ]
     },
     "metadata": {
      "needs_background": "light"
     },
     "output_type": "display_data"
    }
   ],
   "source": [
    "import matplotlib.pyplot as plt\n",
    "\n",
    "acc = history_dict['acc']\n",
    "val_acc = history_dict['val_acc']\n",
    "loss = history_dict['loss']\n",
    "val_loss = history_dict['val_loss']\n",
    "\n",
    "epochs = range(1, len(acc) + 1)\n",
    "\n",
    "# \"bo\" is for \"blue dot\"\n",
    "plt.plot(epochs, loss, 'bo', label='Training loss')\n",
    "# b is for \"solid blue line\"\n",
    "plt.plot(epochs, val_loss, 'b', label='Validation loss')\n",
    "plt.title('Training and validation loss')\n",
    "plt.xlabel('Epochs')\n",
    "plt.ylabel('Loss')\n",
    "plt.legend()\n",
    "\n",
    "plt.show()"
   ]
  },
  {
   "cell_type": "code",
   "execution_count": 17,
   "metadata": {},
   "outputs": [
    {
     "data": {
      "image/png": "[encoded data removed]",
      "text/plain": [
       "<Figure size 432x288 with 1 Axes>"
      ]
     },
     "metadata": {
      "needs_background": "light"
     },
     "output_type": "display_data"
    }
   ],
   "source": [
    "plt.clf()   # clear figure\n",
    "\n",
    "plt.plot(epochs, acc, 'bo', label='Training acc')\n",
    "plt.plot(epochs, val_acc, 'b', label='Validation acc')\n",
    "plt.title('Training and validation accuracy')\n",
    "plt.xlabel('Epochs')\n",
    "plt.ylabel('Accuracy')\n",
    "plt.legend()\n",
    "\n",
    "plt.show()"
   ]
  },
  {
   "cell_type": "code",
   "execution_count": 40,
   "metadata": {},
   "outputs": [],
   "source": []
  },
  {
   "cell_type": "code",
   "execution_count": null,
   "metadata": {},
   "outputs": [],
   "source": []
  },
  {
   "cell_type": "code",
   "execution_count": null,
   "metadata": {},
   "outputs": [],
   "source": []
  },
  {
   "cell_type": "code",
   "execution_count": null,
   "metadata": {},
   "outputs": [],
   "source": []
  }
 ],
 "metadata": {
  "kernelspec": {
   "display_name": "Python 3",
   "language": "python",
   "name": "python3"
  },
  "language_info": {
   "codemirror_mode": {
    "name": "ipython",
    "version": 3
   },
   "file_extension": ".py",
   "mimetype": "text/x-python",
   "name": "python",
   "nbconvert_exporter": "python",
   "pygments_lexer": "ipython3",
   "version": "3.7.3"
  }
 },
 "nbformat": 4,
 "nbformat_minor": 2
}
